{
 "cells": [
  {
   "cell_type": "markdown",
   "metadata": {},
   "source": [
    "## import lib \n"
   ]
  },
  {
   "cell_type": "code",
   "execution_count": null,
   "metadata": {},
   "outputs": [],
   "source": [
    "from selenium import webdriver\n",
    "from bs4 import BeautifulSoup\n",
    "import csv \n",
    "import pandas as pd\n",
    "import datetime\n",
    "import time\n",
    "import smtplib"
   ]
  },
  {
   "cell_type": "markdown",
   "metadata": {},
   "source": [
    "## Connect to ************\n"
   ]
  },
  {
   "cell_type": "code",
   "execution_count": null,
   "metadata": {},
   "outputs": [],
   "source": [
    "\n",
    "URL = 'https://***********/automobiles-**********************'\n",
    "\n",
    "# Configure Selenium webdriver\n",
    "options = webdriver.ChromeOptions()\n",
    "options.add_argument(\"--headless\")  # To run Chrome in headless mode\n",
    "driver = webdriver.Chrome(options=options)\n",
    "driver.get(URL)\n",
    "\n",
    "# Get page source after waiting for dynamic content to load\n",
    "page_source = driver.page_source\n",
    "\n",
    "# Parse the page source with BeautifulSoup\n",
    "soup = BeautifulSoup(page_source, 'html.parser')\n"
   ]
  },
  {
   "cell_type": "markdown",
   "metadata": {},
   "source": [
    "## Collect Data "
   ]
  },
  {
   "cell_type": "code",
   "execution_count": null,
   "metadata": {},
   "outputs": [],
   "source": [
    "\n",
    "# Find the title element\n",
    "title = soup.find(\"h1\", attrs={\"class\": \"text-h5 text-capitalize\"}).get_text().strip()\n",
    "\n",
    "# Find the price element\n",
    "price = soup.find(\"span\", attrs={\"dir\": \"ltr\"}).get_text().strip()\n",
    "if price.isdigit():  # Check if price contains only digits\n",
    "    price = int(price)\n",
    "# Find the <div> tag with the class \"mt-1 line-height-2 primary--text text-h6\"\n",
    "div_tag = soup.find('div', class_='mt-1 line-height-2 primary--text text-h6')\n",
    "\n",
    "# Find the last <span> tag inside the <div> tag\n",
    "pricing_types = div_tag.find_all('span')[-1]\n",
    "pricing_types = pricing_types.get_text().strip()\n",
    "\n",
    "#add time stamp\n",
    "today = datetime.date.today()\n",
    "\n",
    "# Print the text of the <span> tag\n",
    "\n",
    "\n",
    "\n",
    "print(\"Title :\", title)\n",
    "print(\"Price :\", price )\n",
    "print(\"Pricing Type :\",pricing_types)\n",
    "print('Date :', today)\n",
    "\n",
    "# Close the webdriver\n",
    "driver.quit()"
   ]
  },
  {
   "cell_type": "markdown",
   "metadata": {},
   "source": [
    "## Store Data in Csv"
   ]
  },
  {
   "cell_type": "code",
   "execution_count": null,
   "metadata": {},
   "outputs": [],
   "source": [
    "header = ['Title','Price','Pricing Type' , 'Date']\n",
    "data= [title,price, pricing_types , today]\n",
    "\n",
    "# with open('IWebScraperDataset.csv' , 'w' , newline='', encoding='UTF8') as f : \n",
    "#     writer = csv.writer(f)\n",
    "#     writer.writerow(header)\n",
    "#     writer.writerow(data)\n"
   ]
  },
  {
   "cell_type": "markdown",
   "metadata": {},
   "source": [
    "## Read the file "
   ]
  },
  {
   "cell_type": "code",
   "execution_count": null,
   "metadata": {},
   "outputs": [],
   "source": [
    "df = pd.read_csv(r'C:\\Users\\Abdouch\\Desktop\\Data analytics Projects\\ Amazon Web Scraping Using Python\\IWebScraperDataset.csv')\n",
    "df"
   ]
  },
  {
   "cell_type": "markdown",
   "metadata": {},
   "source": [
    "## Add data\n"
   ]
  },
  {
   "cell_type": "code",
   "execution_count": null,
   "metadata": {},
   "outputs": [],
   "source": [
    "with open('IWebScraperDataset.csv' , 'a+' , newline='', encoding='UTF8') as f : \n",
    "    writer = csv.writer(f)\n",
    "    writer.writerow(data)"
   ]
  },
  {
   "cell_type": "markdown",
   "metadata": {},
   "source": [
    "## Make it easier and automatic"
   ]
  },
  {
   "cell_type": "code",
   "execution_count": null,
   "metadata": {},
   "outputs": [],
   "source": [
    "def check_price() :\n",
    "    URL = 'https://***********/automobiles-**********************'\n",
    "\n",
    "    # Configure Selenium webdriver\n",
    "    options = webdriver.ChromeOptions()\n",
    "    options.add_argument(\"--headless\")  # To run Chrome in headless mode\n",
    "    driver = webdriver.Chrome(options=options)\n",
    "    driver.get(URL)\n",
    "\n",
    "    # Get page source after waiting for dynamic content to load\n",
    "    page_source = driver.page_source\n",
    "\n",
    "    # Parse the page source with BeautifulSoup\n",
    "    soup = BeautifulSoup(page_source, 'html.parser')\n",
    "    \n",
    "    # Find the title element\n",
    "    title = soup.find(\"h1\", attrs={\"class\": \"text-h5 text-capitalize\"}).get_text().strip()\n",
    "\n",
    "    # Find the price element\n",
    "    price = soup.find(\"span\", attrs={\"dir\": \"ltr\"}).get_text().strip()\n",
    "    if price.isdigit():  # Check if price contains only digits\n",
    "        price = int(price)\n",
    "    # Find the <div> tag with the class \"mt-1 line-height-2 primary--text text-h6\"\n",
    "    div_tag = soup.find('div', class_='mt-1 line-height-2 primary--text text-h6')\n",
    "\n",
    "    # Find the last <span> tag inside the <div> tag\n",
    "    pricing_types = div_tag.find_all('span')[-1]\n",
    "    pricing_types = pricing_types.get_text().strip()\n",
    "\n",
    "    #add time stamp\n",
    "    today = datetime.date.today()\n",
    "\n",
    "    # Print the text of the <span> tag\n",
    "\n",
    "\n",
    "\n",
    "    print(\"Title :\", title)\n",
    "    print(\"Price :\", price )\n",
    "    print(\"Pricing Type :\",pricing_types)\n",
    "    print('Date :', today)\n",
    "\n",
    "    # Close the webdriver\n",
    "    driver.quit()\n",
    "    \n",
    "    header = ['Title','Price','Pricing Type' , 'Date']\n",
    "    data= [title,price, pricing_types , today]\n",
    "    with open('IWebScraperDataset.csv' , 'a+' , newline='', encoding='UTF8') as f : \n",
    "        writer = csv.writer(f)\n",
    "        writer.writerow(data)\n",
    "    \n",
    "    \n",
    "    \n",
    "    "
   ]
  },
  {
   "cell_type": "markdown",
   "metadata": {},
   "source": [
    "## Check price every day"
   ]
  },
  {
   "cell_type": "code",
   "execution_count": null,
   "metadata": {},
   "outputs": [],
   "source": [
    "# while(True):\n",
    "#     check_price()\n",
    "#     time.sleep(86400)  "
   ]
  },
  {
   "cell_type": "markdown",
   "metadata": {},
   "source": [
    "## Read file "
   ]
  },
  {
   "cell_type": "code",
   "execution_count": null,
   "metadata": {},
   "outputs": [],
   "source": [
    "df = pd.read_csv(r'C:\\Users\\Abdouch\\Desktop\\Data analytics Projects\\ Amazon Web Scraping Using Python\\IWebScraperDataset.csv')\n",
    "df\n"
   ]
  },
  {
   "cell_type": "markdown",
   "metadata": {},
   "source": [
    "## Send mail"
   ]
  },
  {
   "cell_type": "code",
   "execution_count": null,
   "metadata": {},
   "outputs": [],
   "source": [
    "\n",
    "import smtplib\n",
    "\n",
    "def send_mail():\n",
    "    server = smtplib.SMTP_SSL('smtp.gmail.com', 465)\n",
    "    server.ehlo()\n",
    "    #Make sure to replace the email address and password with your own Gmail credentials.\n",
    "    # Additionally, ensure that you have enabled access for less secure apps in your Gmail settings,\n",
    "    # or you can use app-specific passwords if two-factor authentication is enabled.\n",
    "    \n",
    "    server.login('***********','*********')  # Replace with your email and password \n",
    "    \n",
    "    subject = \"Tomobil I!\"\n",
    "    body = \"abdou l'automobile \"\n",
    "   \n",
    "    msg = f\"Subject: {subject}\\n\\n{body}\"\n",
    "    \n",
    "    try:\n",
    "        server.sendmail('***********', '***********', msg)  # Change recipient email address\n",
    "        print(\"Email sent successfully!\")\n",
    "    except Exception as e:\n",
    "        print(\"An error occurred while sending the email:\", str(e))\n",
    "    finally:\n",
    "        server.quit()\n",
    "\n",
    "if price > 14:\n",
    "    send_mail()\n",
    "       \n",
    "       \n",
    "\n",
    "    \n"
   ]
  }
 ],
 "metadata": {
  "kernelspec": {
   "display_name": "Python 3",
   "language": "python",
   "name": "python3"
  },
  "language_info": {
   "codemirror_mode": {
    "name": "ipython",
    "version": 3
   },
   "file_extension": ".py",
   "mimetype": "text/x-python",
   "name": "python",
   "nbconvert_exporter": "python",
   "pygments_lexer": "ipython3",
   "version": "3.12.2"
  }
 },
 "nbformat": 4,
 "nbformat_minor": 2
}
